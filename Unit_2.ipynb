{
  "nbformat": 4,
  "nbformat_minor": 0,
  "metadata": {
    "colab": {
      "name": "Unit 2.ipynb",
      "version": "0.3.2",
      "provenance": [],
      "include_colab_link": true
    },
    "kernelspec": {
      "name": "python3",
      "display_name": "Python 3"
    }
  },
  "cells": [
    {
      "cell_type": "markdown",
      "metadata": {
        "id": "view-in-github",
        "colab_type": "text"
      },
      "source": [
        "<a href=\"https://colab.research.google.com/github/MingLang/edxBEM1105x/blob/master/Unit_2.ipynb\" target=\"_parent\"><img src=\"https://colab.research.google.com/assets/colab-badge.svg\" alt=\"Open In Colab\"/></a>"
      ]
    },
    {
      "metadata": {
        "id": "GHQW0Wq7dQOl",
        "colab_type": "code",
        "colab": {
          "base_uri": "https://localhost:8080/",
          "height": 68
        },
        "outputId": "f7078619-1c4e-417a-dd1d-7346f76e4545"
      },
      "cell_type": "code",
      "source": [
        "# Practice problem 1\n",
        "import math\n",
        "\n",
        "fv = 100\n",
        "p = 3\n",
        "r = 0.08\n",
        "n = 4\n",
        "\n",
        "a = fv / (1 + r / n) ** p\n",
        "print('the present value of a is %.4f' %a)\n",
        "b = fv / (1 + r) ** (p / n)\n",
        "print('the present value of b is %.4f' %b)\n",
        "c = fv * math.exp(-r * p / n)\n",
        "print('the present value of c is %.4f' %c)"
      ],
      "execution_count": 10,
      "outputs": [
        {
          "output_type": "stream",
          "text": [
            "the present value of a is 94.2322\n",
            "the present value of b is 94.3913\n",
            "the present value of c is 94.1765\n"
          ],
          "name": "stdout"
        }
      ]
    },
    {
      "metadata": {
        "id": "kiU5D20Ojryj",
        "colab_type": "code",
        "colab": {
          "base_uri": "https://localhost:8080/",
          "height": 68
        },
        "outputId": "e36bd4dc-8a2b-4766-96b9-effee9ac26c6"
      },
      "cell_type": "code",
      "source": [
        "# Problem 1\n",
        "r = 0.06\n",
        "\n",
        "a = fv / (1 + r / n) ** p\n",
        "print('the present value of a is %.4f' %a)\n",
        "b = fv / (1 + r) ** (p / n)\n",
        "print('the present value of b is %.4f' %b)\n",
        "c = fv * math.exp(-r * p / n)\n",
        "print('the present value of c is %.4f' %c)"
      ],
      "execution_count": 11,
      "outputs": [
        {
          "output_type": "stream",
          "text": [
            "the present value of a is 95.6317\n",
            "the present value of b is 95.7239\n",
            "the present value of c is 95.5997\n"
          ],
          "name": "stdout"
        }
      ]
    },
    {
      "metadata": {
        "id": "kP-zd3epj741",
        "colab_type": "code",
        "colab": {
          "base_uri": "https://localhost:8080/",
          "height": 34
        },
        "outputId": "a134bd84-40ee-4d93-ab6b-6b3eca4a4b20"
      },
      "cell_type": "code",
      "source": [
        "# Practice problem 2\n",
        "\n",
        "def pv(cf=[0], p=[0], r=0.0, n=4):\n",
        "  if len(cf) != len(p):\n",
        "    print('cf and p are not in same length')\n",
        "  else:\n",
        "    result = 0\n",
        "    for i in range(len(cf)):\n",
        "      result += cf[i] / (1 + r / n) ** p[i]\n",
        "    return result\n",
        "\n",
        "r = 0.08\n",
        "n = 4\n",
        "pv1 = pv([5000, 4500, 4500, -7000], [0, 1, 2, 8], r, n)\n",
        "pv2 = pv([5500, 5000, 5000, -9000], [0, 1, 2, 8], r, n)\n",
        "\n",
        "print('The difference is %.4f' % (pv1 - pv2))"
      ],
      "execution_count": 26,
      "outputs": [
        {
          "output_type": "stream",
          "text": [
            "The difference is 236.2003\n"
          ],
          "name": "stdout"
        }
      ]
    },
    {
      "metadata": {
        "id": "seh7mytInJZq",
        "colab_type": "code",
        "colab": {
          "base_uri": "https://localhost:8080/",
          "height": 34
        },
        "outputId": "567b931f-9911-410e-dbea-f57a17545e0a"
      },
      "cell_type": "code",
      "source": [
        "# Problem 2\n",
        "\n",
        "r = 0.04\n",
        "pv1 = pv([6000, 5500, 5500, -9000], [0, 1, 2, 8], r, n)\n",
        "pv2 = pv([6500, 6000, 6000, -11000], [0, 1, 2, 8], r, n)\n",
        "\n",
        "print('The difference is %.4f' % (pv1 - pv2))"
      ],
      "execution_count": 28,
      "outputs": [
        {
          "output_type": "stream",
          "text": [
            "The difference is 361.7689\n"
          ],
          "name": "stdout"
        }
      ]
    },
    {
      "metadata": {
        "id": "0v6zP4RyoI0X",
        "colab_type": "code",
        "colab": {
          "base_uri": "https://localhost:8080/",
          "height": 34
        },
        "outputId": "1c1af7c0-1fc2-4bcf-dd18-dfb6a1f5dddb"
      },
      "cell_type": "code",
      "source": [
        ""
      ],
      "execution_count": 27,
      "outputs": [
        {
          "output_type": "execute_result",
          "data": {
            "text/plain": [
              "0.0"
            ]
          },
          "metadata": {
            "tags": []
          },
          "execution_count": 27
        }
      ]
    }
  ]
}