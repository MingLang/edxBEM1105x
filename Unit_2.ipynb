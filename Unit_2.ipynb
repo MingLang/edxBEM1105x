{
  "nbformat": 4,
  "nbformat_minor": 0,
  "metadata": {
    "colab": {
      "name": "Unit 2.ipynb",
      "version": "0.3.2",
      "provenance": [],
      "collapsed_sections": [],
      "toc_visible": true,
      "include_colab_link": true
    },
    "kernelspec": {
      "name": "python3",
      "display_name": "Python 3"
    }
  },
  "cells": [
    {
      "cell_type": "markdown",
      "metadata": {
        "id": "view-in-github",
        "colab_type": "text"
      },
      "source": [
        "<a href=\"https://colab.research.google.com/github/MingLang/edxBEM1105x/blob/master/Unit_2.ipynb\" target=\"_parent\"><img src=\"https://colab.research.google.com/assets/colab-badge.svg\" alt=\"Open In Colab\"/></a>"
      ]
    },
    {
      "metadata": {
        "id": "ktYSn11qUh8V",
        "colab_type": "code",
        "colab": {}
      },
      "cell_type": "code",
      "source": [
        "import math\n",
        "import numpy as np"
      ],
      "execution_count": 0,
      "outputs": []
    },
    {
      "metadata": {
        "id": "GHQW0Wq7dQOl",
        "colab_type": "code",
        "colab": {
          "base_uri": "https://localhost:8080/",
          "height": 68
        },
        "outputId": "9ac3d0dd-27f4-4b6d-88a1-39d85c7c68fb"
      },
      "cell_type": "code",
      "source": [
        "# Practice problem 1\n",
        "\n",
        "fv = 100\n",
        "p = 3\n",
        "r = 0.08\n",
        "n = 4\n",
        "\n",
        "a = fv / (1 + r / n) ** p\n",
        "print('the present value of a is %.4f' %a)\n",
        "b = fv / (1 + r) ** (p / n)\n",
        "print('the present value of b is %.4f' %b)\n",
        "c = fv * math.exp(-r * p / n)\n",
        "print('the present value of c is %.4f' %c)"
      ],
      "execution_count": 14,
      "outputs": [
        {
          "output_type": "stream",
          "text": [
            "the present value of a is 94.2322\n",
            "the present value of b is 94.3913\n",
            "the present value of c is 94.1765\n"
          ],
          "name": "stdout"
        }
      ]
    },
    {
      "metadata": {
        "id": "kiU5D20Ojryj",
        "colab_type": "code",
        "colab": {
          "base_uri": "https://localhost:8080/",
          "height": 68
        },
        "outputId": "62f31303-56a7-45cf-ef32-e495f88d52e4"
      },
      "cell_type": "code",
      "source": [
        "# Problem 1\n",
        "r = 0.06\n",
        "\n",
        "a = fv / (1 + r / n) ** p\n",
        "print('the present value of a is %.4f' %a)\n",
        "b = fv / (1 + r) ** (p / n)\n",
        "print('the present value of b is %.4f' %b)\n",
        "c = fv * math.exp(-r * p / n)\n",
        "print('the present value of c is %.4f' %c)"
      ],
      "execution_count": 15,
      "outputs": [
        {
          "output_type": "stream",
          "text": [
            "the present value of a is 95.6317\n",
            "the present value of b is 95.7239\n",
            "the present value of c is 95.5997\n"
          ],
          "name": "stdout"
        }
      ]
    },
    {
      "metadata": {
        "id": "kP-zd3epj741",
        "colab_type": "code",
        "colab": {
          "base_uri": "https://localhost:8080/",
          "height": 34
        },
        "outputId": "bdb3c28d-2fce-429c-92ab-da8f9bcc02f5"
      },
      "cell_type": "code",
      "source": [
        "# Practice problem 2\n",
        "\n",
        "def pv(cf=[0], p=[0], r=0.0, n=4):\n",
        "    if len(cf) != len(p):\n",
        "        print('cf and p are not the same length')\n",
        "    else:\n",
        "        result = sum(np.array(cf) / (1 + r / n) ** np.array(p))\n",
        "        return result\n",
        "\n",
        "r = 0.08\n",
        "n = 4\n",
        "pv1 = pv([5000, 4500, 4500, -7000], [0, 1, 2, 8], r, n)\n",
        "pv2 = pv([5500, 5000, 5000, -9000], [0, 1, 2, 8], r, n)\n",
        "\n",
        "print('The difference is %.4f' % (pv1 - pv2))"
      ],
      "execution_count": 16,
      "outputs": [
        {
          "output_type": "stream",
          "text": [
            "The difference is 236.2003\n"
          ],
          "name": "stdout"
        }
      ]
    },
    {
      "metadata": {
        "id": "seh7mytInJZq",
        "colab_type": "code",
        "colab": {
          "base_uri": "https://localhost:8080/",
          "height": 34
        },
        "outputId": "6ebd9de4-7258-47ac-ce1b-1c777d2ab43c"
      },
      "cell_type": "code",
      "source": [
        "# Problem 2\n",
        "\n",
        "r = 0.04\n",
        "pv1 = pv([6000, 5500, 5500, -9000], [0, 1, 2, 8], r, n)\n",
        "pv2 = pv([6500, 6000, 6000, -11000], [0, 1, 2, 8], r, n)\n",
        "\n",
        "print('The difference is %.4f' % (pv1 - pv2))"
      ],
      "execution_count": 17,
      "outputs": [
        {
          "output_type": "stream",
          "text": [
            "The difference is 361.7689\n"
          ],
          "name": "stdout"
        }
      ]
    },
    {
      "metadata": {
        "id": "cEFOwtOGpm-J",
        "colab_type": "code",
        "colab": {
          "base_uri": "https://localhost:8080/",
          "height": 34
        },
        "outputId": "9dec53ad-ed07-492f-fa20-e57781f489ea"
      },
      "cell_type": "code",
      "source": [
        "# Practice problem 3\n",
        "\n",
        "def pv(rate=0.0, nper=1, pmt=0.0):\n",
        "    result = pmt * ((1 + rate) ** nper - 1) / ((1 + rate) ** nper * rate)\n",
        "    return result\n",
        "\n",
        "def pmt(rate=0.0, nper=1, pv=1):\n",
        "    result = pv * (1 + rate) ** nper * rate / ((1 + rate) ** nper - 1)\n",
        "    return result\n",
        "\n",
        "L = 50000\n",
        "r = 0.085\n",
        "n = 12\n",
        "p = 15 * n\n",
        "apr = 0.09\n",
        "\n",
        "fee = pv(r/n, p, pmt(apr/n, p, L)) - L\n",
        "print('the amout of fees is %.6f' % fee)"
      ],
      "execution_count": 22,
      "outputs": [
        {
          "output_type": "stream",
          "text": [
            "the amout of fees is 1499.230228\n"
          ],
          "name": "stdout"
        }
      ]
    },
    {
      "metadata": {
        "id": "Uw04yiUEe4_P",
        "colab_type": "code",
        "colab": {
          "base_uri": "https://localhost:8080/",
          "height": 34
        },
        "outputId": "cc373dbb-fb43-4027-b120-7c72bbe0446f"
      },
      "cell_type": "code",
      "source": [
        "# Problem 3\n",
        "\n",
        "L = 500000\n",
        "r = 0.06\n",
        "n = 12\n",
        "p = 30 * n\n",
        "apr = 0.066\n",
        "\n",
        "fee = pv(r/n, p, pmt(apr/n, p, L)) - L\n",
        "print('the amout of fees is %.6f' % fee)"
      ],
      "execution_count": 25,
      "outputs": [
        {
          "output_type": "stream",
          "text": [
            "the amout of fees is 32614.676521\n"
          ],
          "name": "stdout"
        }
      ]
    },
    {
      "metadata": {
        "id": "T5NX89inhjPo",
        "colab_type": "text"
      },
      "cell_type": "markdown",
      "source": [
        "**Practice Problem 4**\n",
        "\n",
        "The market trades a default-free coupon bond that pays a coupon of 4.00 in six months, and makes a final payment of 104.00 (the last coupon and the principal) in one year. This bond trades at 102.00. Moreover, a six-month zero-coupon bond is traded at 98.20.\n",
        "\n",
        "Enter the one-year spot rate (as a number, not as a percentage, for example 0.01 for 1%) such that there are no arbitrage opportunities:"
      ]
    },
    {
      "metadata": {
        "id": "zxbs8pIjhOad",
        "colab_type": "code",
        "colab": {
          "base_uri": "https://localhost:8080/",
          "height": 34
        },
        "outputId": "0d6a709e-48f0-4f5e-91e4-e4b0ad11d493"
      },
      "cell_type": "code",
      "source": [
        "r = 104 / (102 - (4 / (100 / 98.2))) - 1\n",
        "print('one-year spot rate is %.6f' % r)"
      ],
      "execution_count": 29,
      "outputs": [
        {
          "output_type": "stream",
          "text": [
            "one-year spot rate is 0.060445\n"
          ],
          "name": "stdout"
        }
      ]
    },
    {
      "metadata": {
        "id": "EvtEkJBTjn5_",
        "colab_type": "text"
      },
      "cell_type": "markdown",
      "source": [
        "**Problem 4**\n",
        "\n",
        "A default-free coupon bond maturing in one year, that pays a coupon of 5.00 after six months and makes a final payment of 105.00 (the last coupon and the principal), trades at 104.00 today. Moreover, a six-month default-free zero-coupon bond is traded at 98, and pays 100.00 at maturity.\n",
        "\n",
        "Enter the price of the one-year default-free zero-coupon bond that pays 100 at maturity such that there are no arbitrage opportunities:"
      ]
    },
    {
      "metadata": {
        "id": "5ORcy6NLju5k",
        "colab_type": "code",
        "colab": {
          "base_uri": "https://localhost:8080/",
          "height": 34
        },
        "outputId": "aec33625-3d57-4b4a-851f-aac6b2523d93"
      },
      "cell_type": "code",
      "source": [
        "p = 100 / (105 / (104 - (5 / (100 / 98))))\n",
        "print('the price is %.6f' % p)"
      ],
      "execution_count": 31,
      "outputs": [
        {
          "output_type": "stream",
          "text": [
            "the price is 94.380952\n"
          ],
          "name": "stdout"
        }
      ]
    },
    {
      "metadata": {
        "id": "3atR5oOxkfgo",
        "colab_type": "text"
      },
      "cell_type": "markdown",
      "source": [
        "**Practice Problem 5**\n",
        "\n",
        "The one-year default free zero coupon bond with face value 100 trades at 96, and the three-year default free zero coupon bond with face value 100 trades at 85.\n",
        "\n",
        "Enter the forward rate (as a number, for example 0.01 instead of 1%) for the period between one year and three years from today, assuming compounding once a year:"
      ]
    },
    {
      "metadata": {
        "id": "HgL2IaUhkiJi",
        "colab_type": "code",
        "colab": {
          "base_uri": "https://localhost:8080/",
          "height": 34
        },
        "outputId": "5bb631df-03cf-4294-be7f-bf4ad25eb9c4"
      },
      "cell_type": "code",
      "source": [
        "fr = (100 / (85 * (100 / 96))) ** (1 / 2) - 1\n",
        "print('the forward rate is %.6f' % fr)"
      ],
      "execution_count": 34,
      "outputs": [
        {
          "output_type": "stream",
          "text": [
            "the forward rate is 0.062738\n"
          ],
          "name": "stdout"
        }
      ]
    },
    {
      "metadata": {
        "id": "RwWIj-AKlc5M",
        "colab_type": "text"
      },
      "cell_type": "markdown",
      "source": [
        "**Problem 5**\n",
        "\n",
        "The one-year default free zero-coupon bond with face value 100 trades at 98, and the four-year zero coupon bond with face value 100 trades at 90.\n",
        "\n",
        "Enter the (annualized) forward rate (as a number, for example 0.01 instead of 1%) for the period between one year and four years from today:"
      ]
    },
    {
      "metadata": {
        "id": "Boor7oQsle87",
        "colab_type": "code",
        "colab": {
          "base_uri": "https://localhost:8080/",
          "height": 34
        },
        "outputId": "31970129-6a3a-42af-ed1f-2f8bfea012b8"
      },
      "cell_type": "code",
      "source": [
        "fr = (100 / (90 * (100 / 98))) ** (1 / 3) - 1\n",
        "print('the forward rate is %.6f' % fr)"
      ],
      "execution_count": 35,
      "outputs": [
        {
          "output_type": "stream",
          "text": [
            "the forward rate is 0.028793\n"
          ],
          "name": "stdout"
        }
      ]
    }
  ]
}